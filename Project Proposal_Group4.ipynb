{
 "cells": [
  {
   "cell_type": "markdown",
   "id": "c4644ce2",
   "metadata": {},
   "source": [
    "##                           Crime Incidents in Boston\n",
    "##                                         Group - 4"
   ]
  },
  {
   "cell_type": "markdown",
   "id": "9a6a3102",
   "metadata": {},
   "source": [
    "# Introduction\n",
    "It should not be shocking that crime is so prevalent in Boston. Some areas of Boston are regarded to be dangerous due to a sizable homeless population, gang activity, and high incidence of violent crimes.  The goal of this project is to increase Boston's public safety. The Boston Police Department can use this project's dataset to forecast upcoming crimes and take additional action as a result. The Boston area's patrolling can be optimized through the application of predictive analysis for more effective police officer positioning, scheduling, and routines."
   ]
  },
  {
   "cell_type": "markdown",
   "id": "b66beef6",
   "metadata": {},
   "source": [
    "# Literature Review\n",
    "1.https://www.covesmart.com/blog/boston-crime-rate-is-boston-a-safe-city/\n",
    "The level of safety in a city or state can be ascertained by looking at the crime statistics in that area. Crime statistics for specific neighborhoods can be derived from crime rates, which provide an accurate representation of crime. Crime statistics are an important factor in deciding whether Boston is a safe place to live in.\n",
    "\n",
    "2.https://www.mass.gov/service-details/crime-scene-services-section\n",
    "Crime documenting, Collection and processing of evidence at major crime scenes, Crime scene Photography and evidence processing.\n",
    "\n",
    "3.https://www.findlaw.com/state/massachusetts-law/massachusetts-criminal-statute-of-limitations-laws.html\n",
    "Knowing more about state laws like the criminal statute of limitations, established by state legislation, establishes time restrictions on when prosecutors may pursue criminal charges. Massachusetts joins the majority of states in having varied penalties for certain offences. For example, misdemeanor charges can only be filed within six years. The statute of limitations is 10 years for robbery offenses and 15 years for rape charges."
   ]
  },
  {
   "cell_type": "markdown",
   "id": "971fbf84",
   "metadata": {},
   "source": [
    "## Research Questions\n",
    "What are the areas where crime is more likely to occur at a particular time? \n",
    "Which month was the highest crime rate recorded in year 2022?\n",
    "which crimes are more likely to be reported to the police?\n"
   ]
  },
  {
   "cell_type": "markdown",
   "id": "7804bf76",
   "metadata": {},
   "source": [
    "# Data Set  and Source\n",
    "The dataset contains crime data in the boston area in year 2022. It was provided by the Boston police department(BPD). \n",
    "https://data.boston.gov/dataset/6220d948-eae2-4e4b-8723-2dc8e67722a3/resource/313e56df-6d77-49d2-9c49-ee411f10cf58/download/tmpdpj7i__r.csv\n",
    "Some attributes are ID, INCIDENT_NUMBER,OFFENSE_CODE_GROUP,OFFENSE_DESCRIPTION,DISTRICT,REPORTING AREA,SHOOTING,OCCURRED_ON_DATE,YEAR,MONTH,DAY_OF_WEEK,HOUR,UCR_PART,STREET,LAT,LONG,LOCATION.\n",
    "This dataset contain variables which are required for my research.\n"
   ]
  },
  {
   "cell_type": "code",
   "execution_count": null,
   "id": "3e9cdb95",
   "metadata": {},
   "outputs": [],
   "source": []
  }
 ],
 "metadata": {
  "kernelspec": {
   "display_name": "Python 3",
   "language": "python",
   "name": "python3"
  },
  "language_info": {
   "codemirror_mode": {
    "name": "ipython",
    "version": 3
   },
   "file_extension": ".py",
   "mimetype": "text/x-python",
   "name": "python",
   "nbconvert_exporter": "python",
   "pygments_lexer": "ipython3",
   "version": "3.8.8"
  }
 },
 "nbformat": 4,
 "nbformat_minor": 5
}
